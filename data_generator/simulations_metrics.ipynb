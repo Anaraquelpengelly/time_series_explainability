{
 "cells": [
  {
   "cell_type": "code",
   "execution_count": 1,
   "metadata": {},
   "outputs": [],
   "source": [
    "import numpy as np\n",
    "import pandas as pd\n",
    "import matplotlib.pyplot as plt\n",
    "%matplotlib inline\n",
    "from sklearn import metrics\n",
    "import pickle as pkl\n",
    "import glob\n",
    "import ranking as rm"
   ]
  },
  {
   "cell_type": "code",
   "execution_count": 2,
   "metadata": {},
   "outputs": [
    {
     "name": "stdout",
     "output_type": "stream",
     "text": [
      "FFC &  0.6282  &  0.7591 \\\\\n",
      "AFO & 0.7035  &  0.7785 \\\\\n",
      "Suresh &  0.8013  &  0.9021 \\\\\n",
      "Sens &  0.4246  &  0.6301 \\\\\n"
     ]
    }
   ],
   "source": [
    "#preprocess before metric collection\n",
    "Tt=199\n",
    "N=10\n",
    "n_features=3\n",
    "y_true=np.zeros(n_features*N*Tt)\n",
    "y_ffc=np.zeros(n_features*N*Tt)\n",
    "y_afo=np.zeros(n_features*N*Tt)\n",
    "y_suresh=np.zeros(n_features*N*Tt)\n",
    "y_sens=np.zeros(n_features*N*Tt)\n",
    "\n",
    "y_true_rk0=np.zeros((n_features, N*Tt)).T\n",
    "y_true_rk=np.zeros((n_features, N*Tt)).T\n",
    "y_ffc_rk=np.zeros((n_features, N*Tt)).T\n",
    "y_afo_rk=np.zeros((n_features, N*Tt)).T\n",
    "y_suresh_rk=np.zeros((n_features, N*Tt)).T\n",
    "y_sens_rk=np.zeros((n_features, N*Tt)).T\n",
    "\n",
    "plot=0\n",
    "\n",
    "filelist = glob.glob('../examples/simulation/results_*.pkl')\n",
    "\n",
    "for n,file in enumerate(filelist):\n",
    "    with open(file,'rb') as f:\n",
    "        arr = pkl.load(f)\n",
    "    n_obs=Tt*n_features\n",
    "    y_true[n*n_obs:(n+1)*n_obs] = arr['gt'].T[:,:-1].flatten()\n",
    "    y_ffc[n*n_obs:(n+1)*n_obs] = arr['FFC']['imp'].flatten()\n",
    "    y_afo[n*n_obs:(n+1)*n_obs] = arr['AFO']['imp'].flatten()\n",
    "    y_suresh[n*n_obs:(n+1)*n_obs] = arr['Suresh_et_al']['imp'].flatten()\n",
    "    y_sens[n*n_obs:(n+1)*n_obs] = arr['Sens']['imp'][:,:-1].flatten()\n",
    "    \n",
    "    n_obs = Tt\n",
    "    y_true_rk0[n*n_obs:(n+1)*n_obs,:] = arr['gt'].T[:,:-1].T\n",
    "    y_ffc_rk[n*n_obs:(n+1)*n_obs,:] = arr['FFC']['imp'].T\n",
    "    y_afo_rk[n*n_obs:(n+1)*n_obs,:] = arr['AFO']['imp'].T\n",
    "    y_suresh_rk[n*n_obs:(n+1)*n_obs,:] = arr['Suresh_et_al']['imp'].T\n",
    "    y_sens_rk[n*n_obs:(n+1)*n_obs,:] = arr['Sens']['imp'][:,:-1].T\n",
    "    \n",
    "    state = np.zeros((arr['gt'].shape[0]),dtype=int)\n",
    "    for t in range(state.shape[0]):\n",
    "        if arr['gt'][t,0]==1 and arr['gt'][t,1]==1:\n",
    "            state[t] = 0\n",
    "        else:\n",
    "            state[t] = 1\n",
    "\n",
    "    if plot:\n",
    "        plt.figure()\n",
    "        plt.plot(y_true[n*n_obs:(n+1)*n_obs],label='true')\n",
    "        plt.plot(y_ffc[n*n_obs:(n+1)*n_obs],label='ffc')\n",
    "        plt.plot(y_afo[n*n_obs:(n+1)*n_obs],label='afo')\n",
    "        plt.plot(y_suresh[n*n_obs:(n+1)*n_obs],label='suresh_et_al')\n",
    "        plt.plot(y_sens[n*n_obs:(n+1)*n_obs],label='sens')\n",
    "        plt.legend()\n",
    "\n",
    "y_true_rk[:,0] = 0\n",
    "y_true_rk[:,1] = np.array([1 if x==1 else 2 for x in y_true_rk0[:,1]])\n",
    "y_true_rk[:,2] =np.array([2 if x==1 else 1 for x in y_true_rk0[:,1]])\n",
    "\n",
    "y_ffc_rk = np.flip(np.argsort(y_ffc_rk,axis=1),axis=1)\n",
    "y_afo_rk = np.flip(np.argsort(y_afo_rk,axis=1),axis=1)\n",
    "y_suresh_rk = np.flip(np.argsort(y_suresh_rk,axis=1),axis=1)\n",
    "y_sens_rk = np.flip(np.argsort(y_sens_rk,axis=1),axis=1)\n",
    "\n",
    "#print metrics\n",
    "auc_ffc= metrics.roc_auc_score(y_true, y_ffc)\n",
    "auc_afo= metrics.roc_auc_score(y_true, y_afo)\n",
    "auc_suresh= metrics.roc_auc_score(y_true, y_suresh)\n",
    "auc_sens= metrics.roc_auc_score(y_true, y_sens)\n",
    "    \n",
    "'''\n",
    "# recall/sensitivity\n",
    "report_ffc = metrics.classification_report(y_true, y_ffc)\n",
    "report_afo = metrics.classification_report(y_true, y_afo)\n",
    "report_suresh = metrics.classification_report(y_true, y_suresh)\n",
    "report_sens = metrics.classification_report(y_true, y_sens)\n",
    "'''\n",
    "    \n",
    "# auprc\n",
    "auprc_ffc= metrics.average_precision_score(y_true, y_ffc)\n",
    "auprc_afo= metrics.average_precision_score(y_true, y_afo)\n",
    "auprc_suresh= metrics.average_precision_score(y_true, y_suresh)\n",
    "auprc_sens= metrics.average_precision_score(y_true, y_sens)\n",
    "\n",
    "'''\n",
    "print('FFC - AUC: ',auc_ffc, ' Sensitivity: ',report_ffc['recall'], ' AUPRC: ',  auprc_ffc)\n",
    "print('AFO - AUC: ',auc_afo, ' Sensitivity: ',report_afo['recall'], ' AUPRC: ',  auprc_afo)\n",
    "print('Suresh - AUC: ',auc_suresh, ' Sensitivity: ',report_suresh['recall'], ' AUPRC: ',  auprc_suresh)\n",
    "print('Sens - AUC: ',auc_sens, ' Sensitivity: ',report_sens['recall'], ' AUPRC: ',  auprc_sens)\n",
    "'''\n",
    "\n",
    "print('FFC & ', round(auc_ffc,4),  ' & ',  round(auprc_ffc,4) , '\\\\\\\\')\n",
    "print('AFO &',round(auc_afo,4),  ' & ',  round(auprc_afo,4), '\\\\\\\\')\n",
    "print('Suresh & ',round(auc_suresh,4),  ' & ',  round(auprc_suresh,4), '\\\\\\\\')\n",
    "print('Sens & ',round(auc_sens,4),  ' & ',  round(auprc_sens,4), '\\\\\\\\')"
   ]
  },
  {
   "cell_type": "code",
   "execution_count": 3,
   "metadata": {},
   "outputs": [
    {
     "data": {
      "text/plain": [
       "(200, 3)"
      ]
     },
     "execution_count": 3,
     "metadata": {},
     "output_type": "execute_result"
    }
   ],
   "source": [
    "\n",
    "\n"
   ]
  },
  {
   "cell_type": "code",
   "execution_count": 7,
   "metadata": {},
   "outputs": [
    {
     "data": {
      "text/plain": [
       "(array([4.309e+03, 5.520e+02, 5.010e+02, 3.320e+02, 1.610e+02, 8.000e+01,\n",
       "        2.200e+01, 1.000e+01, 1.000e+00, 2.000e+00]),\n",
       " array([0.        , 0.05995616, 0.11991233, 0.17986849, 0.23982466,\n",
       "        0.29978082, 0.35973699, 0.41969315, 0.47964932, 0.53960548,\n",
       "        0.59956165]),\n",
       " <a list of 10 Patch objects>)"
      ]
     },
     "execution_count": 7,
     "metadata": {},
     "output_type": "execute_result"
    },
    {
     "data": {
      "image/png": "[encoded data removed]",
      "text/plain": [
       "<Figure size 432x288 with 1 Axes>"
      ]
     },
     "metadata": {
      "needs_background": "light"
     },
     "output_type": "display_data"
    }
   ],
   "source": [
    "plt.hist(y_afo)"
   ]
  },
  {
   "cell_type": "code",
   "execution_count": 8,
   "metadata": {},
   "outputs": [
    {
     "data": {
      "text/plain": [
       "(array([4219.,  486.,  401.,  345.,  230.,  175.,   61.,   34.,   12.,\n",
       "           7.]),\n",
       " array([0.        , 0.05511372, 0.11022743, 0.16534115, 0.22045487,\n",
       "        0.27556858, 0.3306823 , 0.38579602, 0.44090973, 0.49602345,\n",
       "        0.55113717]),\n",
       " <a list of 10 Patch objects>)"
      ]
     },
     "execution_count": 8,
     "metadata": {},
     "output_type": "execute_result"
    },
    {
     "data": {
      "image/png": "[encoded data removed]",
      "text/plain": [
       "<Figure size 432x288 with 1 Axes>"
      ]
     },
     "metadata": {
      "needs_background": "light"
     },
     "output_type": "display_data"
    }
   ],
   "source": [
    "plt.hist(y_suresh)"
   ]
  },
  {
   "cell_type": "code",
   "execution_count": 3,
   "metadata": {},
   "outputs": [
    {
     "name": "stdout",
     "output_type": "stream",
     "text": [
      "FFC &  1.0  &  1.0 &  1.0 \\\\\n",
      "AFO & 1.0  &  1.0 & 1.0 \\\\\n",
      "Suresh &  1.0  &  1.0 & 1.0 \\\\\n",
      "Sens &  1.0  &  1.0 & 1.0 \\\\\n"
     ]
    }
   ],
   "source": [
    "prec_at_k_ffc = rm.precision_at(y_ffc_rk, y_true_rk, k=1, assume_unique=True)\n",
    "map_rk_ffc = rm.mean_average_precision(y_ffc_rk, y_true_rk, assume_unique=True)\n",
    "ndcg_at_k_ffc = rm.ndcg_at(y_ffc_rk, y_true_rk, k=1, assume_unique=True)\n",
    "\n",
    "prec_at_k_afo = rm.precision_at(y_afo_rk, y_true_rk, k=1, assume_unique=True)\n",
    "map_rk_afo = rm.mean_average_precision(y_afo_rk, y_true_rk, assume_unique=True)\n",
    "ndcg_at_k_afo = rm.ndcg_at(y_afo_rk, y_true_rk, k=1, assume_unique=True)\n",
    "\n",
    "prec_at_k_suresh = rm.precision_at(y_suresh_rk, y_true_rk, k=1, assume_unique=True)\n",
    "map_rk_suresh = rm.mean_average_precision(y_suresh_rk, y_true_rk, assume_unique=True)\n",
    "ndcg_at_k_suresh = rm.ndcg_at(y_suresh_rk, y_true_rk, k=1, assume_unique=True)\n",
    "\n",
    "prec_at_k_sens = rm.precision_at(y_sens_rk, y_true_rk, k=1, assume_unique=True)\n",
    "map_rk_sens = rm.mean_average_precision(y_sens_rk, y_true_rk, assume_unique=True)\n",
    "ndcg_at_k_sens = rm.ndcg_at(y_sens_rk, y_true_rk, k=1, assume_unique=True)\n",
    "\n",
    "print('FFC & ', round(prec_at_k_ffc,4),  ' & ',  round(map_rk_ffc,4) , '& ' ,round(ndcg_at_k_ffc,4),'\\\\\\\\')\n",
    "print('AFO &',round(prec_at_k_afo,4),  ' & ',  round(map_rk_afo,4), '&', round(ndcg_at_k_afo,4),'\\\\\\\\')\n",
    "print('Suresh & ',round(prec_at_k_suresh,4),  ' & ',  round(map_rk_suresh,4), '&',round(ndcg_at_k_suresh,4),'\\\\\\\\')\n",
    "print('Sens & ',round(prec_at_k_sens,4),  ' & ',  round(map_rk_sens,4), '&', round(ndcg_at_k_sens,4),'\\\\\\\\')"
   ]
  },
  {
   "cell_type": "code",
   "execution_count": null,
   "metadata": {},
   "outputs": [],
   "source": []
  },
  {
   "cell_type": "code",
   "execution_count": 32,
   "metadata": {},
   "outputs": [],
   "source": [
    "with open('../data/simulated_data/state_dataset_logits_train.pkl','rb') as f:\n",
    "    logits = pkl.load(f)"
   ]
  },
  {
   "cell_type": "code",
   "execution_count": 33,
   "metadata": {},
   "outputs": [
    {
     "data": {
      "text/plain": [
       "(800, 200)"
      ]
     },
     "execution_count": 33,
     "metadata": {},
     "output_type": "execute_result"
    }
   ],
   "source": [
    "logits.shape"
   ]
  },
  {
   "cell_type": "code",
   "execution_count": 34,
   "metadata": {},
   "outputs": [],
   "source": [
    "with open('../data/simulated_data/state_dataset_importance_train.pkl','rb') as f:\n",
    "    importance = pkl.load(f)\n",
    "state = np.zeros(logits.shape,dtype=int)\n",
    "y_logit_1=[]\n",
    "y_logit_2=[]\n",
    "for n in range(importance.shape[0]):\n",
    "    for t in range(importance[n].shape[0]):\n",
    "        if importance[n,t,0]==1 and importance[n,t,2]==1:\n",
    "            y_logit_2.append(logits[n,t])\n",
    "        elif importance[n,t,1]==1 and importance[n,t,2]==1:\n",
    "            y_logit_1.append(logits[n,t])\n",
    "            \n",
    "y_logit_1=np.array(y_logit_1)\n",
    "y_logit_2=np.array(y_logit_2)"
   ]
  },
  {
   "cell_type": "code",
   "execution_count": 35,
   "metadata": {},
   "outputs": [
    {
     "data": {
      "text/plain": [
       "((79758,), (80242,))"
      ]
     },
     "execution_count": 35,
     "metadata": {},
     "output_type": "execute_result"
    }
   ],
   "source": [
    "y_logit_1.shape, y_logit_2.shape"
   ]
  },
  {
   "cell_type": "code",
   "execution_count": 36,
   "metadata": {},
   "outputs": [
    {
     "data": {
      "text/plain": [
       "(array([2.4000e+01, 6.7000e+01, 2.4400e+02, 6.9100e+02, 1.4870e+03,\n",
       "        3.1480e+03, 6.1580e+03, 1.2237e+04, 2.4460e+04, 3.1242e+04]),\n",
       " array([0.07619638, 0.16844263, 0.26068887, 0.35293511, 0.44518136,\n",
       "        0.5374276 , 0.62967384, 0.72192009, 0.81416633, 0.90641257,\n",
       "        0.99865882]),\n",
       " <a list of 10 Patch objects>)"
      ]
     },
     "execution_count": 36,
     "metadata": {},
     "output_type": "execute_result"
    },
    {
     "data": {
      "image/png": "[encoded data removed]",
      "text/plain": [
       "<Figure size 432x288 with 1 Axes>"
      ]
     },
     "metadata": {
      "needs_background": "light"
     },
     "output_type": "display_data"
    }
   ],
   "source": [
    "plt.hist(y_logit_1,color='r')"
   ]
  },
  {
   "cell_type": "code",
   "execution_count": 29,
   "metadata": {
    "scrolled": false
   },
   "outputs": [
    {
     "data": {
      "text/plain": [
       "(array([1.842e+04, 6.808e+03, 2.284e+03, 8.740e+02, 3.530e+02, 1.680e+02,\n",
       "        5.500e+01, 2.700e+01, 9.000e+00, 3.000e+00]),\n",
       " array([5.85928567e-04, 7.91708254e-02, 1.57755722e-01, 2.36340619e-01,\n",
       "        3.14925516e-01, 3.93510412e-01, 4.72095309e-01, 5.50680206e-01,\n",
       "        6.29265103e-01, 7.07850000e-01, 7.86434896e-01]),\n",
       " <a list of 10 Patch objects>)"
      ]
     },
     "execution_count": 29,
     "metadata": {},
     "output_type": "execute_result"
    },
    {
     "data": {
      "image/png": "[encoded data removed]",
      "text/plain": [
       "<Figure size 432x288 with 1 Axes>"
      ]
     },
     "metadata": {
      "needs_background": "light"
     },
     "output_type": "display_data"
    }
   ],
   "source": [
    "plt.hist(y_logit_2,color='b')"
   ]
  },
  {
   "cell_type": "code",
   "execution_count": 53,
   "metadata": {},
   "outputs": [],
   "source": [
    "from scipy.special import expit\n",
    "def decay(x):\n",
    "    return 0.8*(1-0.03)**x"
   ]
  },
  {
   "cell_type": "code",
   "execution_count": 54,
   "metadata": {},
   "outputs": [],
   "source": [
    "import numpy as np\n",
    "prob=np.zeros((200))\n",
    "for t in range(200):\n",
    "    prob[t] = decay(t)"
   ]
  },
  {
   "cell_type": "code",
   "execution_count": 55,
   "metadata": {},
   "outputs": [
    {
     "data": {
      "text/plain": [
       "[<matplotlib.lines.Line2D at 0x7fc6c1bcb898>]"
      ]
     },
     "execution_count": 55,
     "metadata": {},
     "output_type": "execute_result"
    },
    {
     "data": {
      "image/png": "[encoded data removed]",
      "text/plain": [
       "<Figure size 432x288 with 1 Axes>"
      ]
     },
     "metadata": {
      "needs_background": "light"
     },
     "output_type": "display_data"
    }
   ],
   "source": [
    "plt.plot(prob)"
   ]
  },
  {
   "cell_type": "code",
   "execution_count": null,
   "metadata": {},
   "outputs": [],
   "source": []
  }
 ],
 "metadata": {
  "kernelspec": {
   "display_name": "Python 3",
   "language": "python",
   "name": "python3"
  },
  "language_info": {
   "codemirror_mode": {
    "name": "ipython",
    "version": 3
   },
   "file_extension": ".py",
   "mimetype": "text/x-python",
   "name": "python",
   "nbconvert_exporter": "python",
   "pygments_lexer": "ipython3",
   "version": "3.7.3"
  }
 },
 "nbformat": 4,
 "nbformat_minor": 2
}
