{
 "cells": [
  {
   "cell_type": "code",
   "execution_count": 1,
   "metadata": {},
   "outputs": [],
   "source": [
    "import numpy as np\n",
    "import pandas as pd\n",
    "import matplotlib.pyplot as plt\n",
    "%matplotlib inline\n",
    "from sklearn import metrics\n",
    "import pickle as pkl\n",
    "import glob\n",
    "import ranking as rm"
   ]
  },
  {
   "cell_type": "code",
   "execution_count": 2,
   "metadata": {},
   "outputs": [],
   "source": [
    "result_dict={}"
   ]
  },
  {
   "cell_type": "code",
   "execution_count": 15,
   "metadata": {},
   "outputs": [
    {
     "name": "stderr",
     "output_type": "stream",
     "text": [
      "/h/shalmali/anaconda3/envs/tsx/lib/python3.7/site-packages/sklearn/metrics/classification.py:1143: UndefinedMetricWarning: Precision and F-score are ill-defined and being set to 0.0 in labels with no predicted samples.\n",
      "  'precision', 'predicted', average, warn_for)\n"
     ]
    },
    {
     "name": "stdout",
     "output_type": "stream",
     "text": [
      "---------------------------------------------------thr: 0.5\n",
      "FFC &  0.6321 +- 0.0  &  0.2696 +- 0.0 \\\\\n",
      "Cond &  0.4448 +- 0.0  &  0.047 +- 0.0 \\\\\n",
      "AFO &  0.7949 +- 0.0  &  0.0474 +- 0.0 \\\\\n",
      "FO &  0.7944 +- 0.0  &  0.0471 +- 0.0 \\\\\n",
      "Sens &  0.7306 +- 0.0  &  0.0481 +- 0.0 \\\\\n",
      "LIME &  0.6077 +- 0.0  &  0.0308 +- 0.0 \\\\\n",
      "True Gen &  0.5 +- 0.0  &  0.0184 +- 0.0 \\\\\n"
     ]
    }
   ],
   "source": [
    "%run -i 'simulations_metrics.py'"
   ]
  },
  {
   "cell_type": "code",
   "execution_count": 85,
   "metadata": {},
   "outputs": [],
   "source": [
    "key='100'\n",
    "result_dict[key]={}\n",
    "result_dict[key]['ffc'] = [auc_ffc, auprc_ffc]\n",
    "result_dict[key]['afo'] = [auc_afo, auprc_afo]\n",
    "result_dict[key]['fo'] = [auc_fo, auprc_fo]\n",
    "result_dict[key]['sens'] = [auc_sens, auprc_sens]\n",
    "result_dict[key]['lime'] = [auc_lime, auprc_lime]"
   ]
  },
  {
   "cell_type": "code",
   "execution_count": 86,
   "metadata": {},
   "outputs": [
    {
     "data": {
      "text/plain": [
       "{'1': {'ffc': [[0.8919056566452551], [0.19869590852318547]],\n",
       "  'afo': [[0.7203571827800862], [0.02998556903602677]],\n",
       "  'fo': [[0.7209214482529623], [0.02939011107373216]],\n",
       "  'sens': [[0.7036553319651587], [0.037474044302735716]],\n",
       "  'lime': [[0.3811404906507465], [0.01666594012992085]]},\n",
       " '2': {'ffc': [[0.9039421536592416], [0.20725364670377183]],\n",
       "  'afo': [[0.7098518817448699], [0.029894218439061995]],\n",
       "  'fo': [[0.7298982890648864], [0.030571193376707308]],\n",
       "  'sens': [[0.7094669036891281], [0.037108558493315374]],\n",
       "  'lime': [[0.5380664151086486], [0.01901999113361064]]},\n",
       " '5': {'ffc': [[0.8999968125267571], [0.15668776425606507]],\n",
       "  'afo': [[0.714158024489338], [0.02865253785130955]],\n",
       "  'fo': [[0.7231979785439152], [0.029368432586792455]],\n",
       "  'sens': [[0.7122119798223401], [0.03763074621743471]],\n",
       "  'lime': [[0.5608462556955407], [0.021146627009428473]]},\n",
       " '10': {'ffc': [[0.9335259771752739], [0.23625467423042695]],\n",
       "  'afo': [[0.7031667769345784], [0.02772167454977822]],\n",
       "  'fo': [[0.7196811966881581], [0.033062614407898455]],\n",
       "  'sens': [[0.7111862941958911], [0.036691216610311606]],\n",
       "  'lime': [[0.35562133174159016], [0.017199278143785884]]},\n",
       " '50': {'ffc': [[0.9420939815987998], [0.20938403866271832]],\n",
       "  'afo': [[0.712910519991406], [0.029027831645343036]],\n",
       "  'fo': [[0.7256484519854873], [0.031687851328648514]],\n",
       "  'sens': [[0.7061012246068608], [0.03573360004078874]],\n",
       "  'lime': [[0.6041107016455696], [0.03190861614875547]]},\n",
       " '100': {'ffc': [[0.9330327141003828], [0.15630782873011795]],\n",
       "  'afo': [[0.7160570841465579], [0.02984022202112283]],\n",
       "  'fo': [[0.7233803834498499], [0.029561588006520013]],\n",
       "  'sens': [[0.7455925865861837], [0.0391494155151282]],\n",
       "  'lime': [[0.3555777505206047], [0.017133252291984778]]}}"
      ]
     },
     "execution_count": 86,
     "metadata": {},
     "output_type": "execute_result"
    }
   ],
   "source": [
    "result_dict"
   ]
  },
  {
   "cell_type": "code",
   "execution_count": 89,
   "metadata": {},
   "outputs": [
    {
     "data": {
      "image/png": "[encoded data removed]",
      "text/plain": [
       "<Figure size 432x288 with 1 Axes>"
      ]
     },
     "metadata": {
      "needs_background": "light"
     },
     "output_type": "display_data"
    },
    {
     "data": {
      "image/png": "[encoded data removed]",
      "text/plain": [
       "<Figure size 432x288 with 1 Axes>"
      ]
     },
     "metadata": {
      "needs_background": "light"
     },
     "output_type": "display_data"
    }
   ],
   "source": [
    "x_vec = [int(x) for x in list(result_dict.keys())]\n",
    "markers_methods = ['o','X','*','D','>']\n",
    "ccolors = plt.get_cmap('tab10')(np.arange(len(markers_methods), dtype=int))\n",
    "#AUC plot\n",
    "plt.figure()\n",
    "plt.plot(x_vec, [result_dict[str(key)]['ffc'][0] for key in x_vec],marker=markers_methods[0],color=ccolors[0],\n",
    "         linestyle='--',markersize=8,label='FFC')\n",
    "plt.plot(x_vec, [result_dict[str(key)]['afo'][0] for key in x_vec],marker=markers_methods[1],color=ccolors[1],\n",
    "         linestyle='--',markersize=8,label='AFO')\n",
    "#plt.plot(x_vec, [result_dict[str(key)]['fo'][0] for key in x_vec],marker=markers_methods[2],color=ccolors[2],\n",
    "#         linestyle='--',markersize=8,label='FO')\n",
    "#plt.plot(x_vec, [result_dict[str(key)]['sens'][0] for key in x_vec],marker=markers_methods[3],color=ccolors[3],\n",
    "#         linestyle='--',markersize=8,label='Sens')\n",
    "#plt.plot(x_vec, [result_dict[str(key)]['lime'][0] for key in x_vec],marker=markers_methods[4],color=ccolors[4],\n",
    "#         linestyle='--',markersize=8,label='LIME')\n",
    "plt.legend()\n",
    "plt.ylim([0.0,1.0])\n",
    "plt.tight_layout()\n",
    "plt.xlabel('% training data for generator')\n",
    "plt.ylabel('AUROC')\n",
    "plt.savefig('AUROC_percent.png', dpi=300)\n",
    "\n",
    "plt.figure()\n",
    "plt.plot(x_vec, [result_dict[str(key)]['ffc'][1] for key in x_vec],marker=markers_methods[0],color=ccolors[0],\n",
    "         linestyle='--',markersize=8,label='FFC')\n",
    "plt.plot(x_vec, [result_dict[str(key)]['afo'][1] for key in x_vec],marker=markers_methods[1],color=ccolors[1],\n",
    "         linestyle='--',markersize=8,label='AFO')\n",
    "#plt.plot(x_vec, [result_dict[str(key)]['fo'][0] for key in x_vec],marker=markers_methods[2],color=ccolors[2],\n",
    "#         linestyle='--',markersize=8,label='FO')\n",
    "#plt.plot(x_vec, [result_dict[str(key)]['sens'][0] for key in x_vec],marker=markers_methods[3],color=ccolors[3],\n",
    "#         linestyle='--',markersize=8,label='Sens')\n",
    "#plt.plot(x_vec, [result_dict[str(key)]['lime'][0] for key in x_vec],marker=markers_methods[4],color=ccolors[4],\n",
    "#         linestyle='--',markersize=8,label='LIME')\n",
    "plt.legend()\n",
    "plt.ylim([0.0,0.5])\n",
    "plt.tight_layout()\n",
    "plt.xlabel('% training data for generator')\n",
    "plt.ylabel('AUPRC')\n",
    "plt.savefig('AUPRC_percent.png', dpi=300)"
   ]
  },
  {
   "cell_type": "code",
   "execution_count": 17,
   "metadata": {},
   "outputs": [
    {
     "name": "stdout",
     "output_type": "stream",
     "text": [
      "FFC &  0.749  &  0.4781 \\\\\n",
      "AFO & 0.7314  &  0.1903 \\\\\n",
      "Suresh &  0.6079  &  0.0021 \\\\\n",
      "Sens &  0.4283  &  0.0034 \\\\\n"
     ]
    }
   ],
   "source": [
    "#preprocess before metric collection\n",
    "filelist = glob.glob('/scratch/gobi1/shalmali/simulation_spike/results_*.pkl')\n",
    "Tt=79\n",
    "N=len(filelist)\n",
    "n_features=3\n",
    "y_true=np.zeros(n_features*N*Tt)\n",
    "y_ffc=np.zeros(n_features*N*Tt)\n",
    "y_afo=np.zeros(n_features*N*Tt)\n",
    "y_suresh=np.zeros(n_features*N*Tt)\n",
    "y_sens=np.zeros(n_features*N*Tt)\n",
    "\n",
    "y_true_rk0=np.zeros((n_features, N*Tt)).T\n",
    "y_true_rk=np.zeros((n_features, N*Tt)).T\n",
    "y_ffc_rk=np.zeros((n_features, N*Tt)).T\n",
    "y_afo_rk=np.zeros((n_features, N*Tt)).T\n",
    "y_suresh_rk=np.zeros((n_features, N*Tt)).T\n",
    "y_sens_rk=np.zeros((n_features, N*Tt)).T\n",
    "\n",
    "plot=0\n",
    "\n",
    "\n",
    "\n",
    "for n,file in enumerate(filelist):\n",
    "    with open(file,'rb') as f:\n",
    "        arr = pkl.load(f)\n",
    "    n_obs=Tt*n_features\n",
    "    gt_array = np.zeros((n_features,Tt))\n",
    "    gt_array[0,:] = arr['gt'][1:]\n",
    "    y_true[n*n_obs:(n+1)*n_obs] = gt_array.flatten()\n",
    "    y_ffc[n*n_obs:(n+1)*n_obs] = arr['FFC']['imp'].flatten()\n",
    "    y_afo[n*n_obs:(n+1)*n_obs] = arr['AFO']['imp'].flatten()\n",
    "    y_suresh[n*n_obs:(n+1)*n_obs] = arr['Suresh_et_al']['imp'].flatten()\n",
    "    y_sens[n*n_obs:(n+1)*n_obs] = arr['Sens']['imp'][:,1:].flatten()\n",
    "    \n",
    "    n_obs = Tt\n",
    "    y_true_rk0[n*n_obs:(n+1)*n_obs,:] = gt_array.T\n",
    "    y_ffc_rk[n*n_obs:(n+1)*n_obs,:] = arr['FFC']['imp'].T\n",
    "    y_afo_rk[n*n_obs:(n+1)*n_obs,:] = arr['AFO']['imp'].T\n",
    "    y_suresh_rk[n*n_obs:(n+1)*n_obs,:] = arr['Suresh_et_al']['imp'].T\n",
    "    y_sens_rk[n*n_obs:(n+1)*n_obs,:] = arr['Sens']['imp'][:,1:].T\n",
    "\n",
    "    if plot:\n",
    "        plt.figure()\n",
    "        plt.plot(y_true[n*n_obs:(n+1)*n_obs],label='true')\n",
    "        plt.plot(y_ffc[n*n_obs:(n+1)*n_obs],label='ffc')\n",
    "        plt.plot(y_afo[n*n_obs:(n+1)*n_obs],label='afo')\n",
    "        plt.plot(y_suresh[n*n_obs:(n+1)*n_obs],label='suresh_et_al')\n",
    "        plt.plot(y_sens[n*n_obs:(n+1)*n_obs],label='sens')\n",
    "        plt.legend()\n",
    "\n",
    "y_true_rk[:,0] = 0\n",
    "y_true_rk[:,1] = np.array([1 if x==1 else 2 for x in y_true_rk0[:,1]])\n",
    "y_true_rk[:,2] =np.array([2 if x==1 else 1 for x in y_true_rk0[:,1]])\n",
    "\n",
    "y_ffc_rk = np.flip(np.argsort(y_ffc_rk,axis=1),axis=1)\n",
    "y_afo_rk = np.flip(np.argsort(y_afo_rk,axis=1),axis=1)\n",
    "y_suresh_rk = np.flip(np.argsort(y_suresh_rk,axis=1),axis=1)\n",
    "y_sens_rk = np.flip(np.argsort(y_sens_rk,axis=1),axis=1)\n",
    "\n",
    "#print metrics\n",
    "auc_ffc= metrics.roc_auc_score(y_true, y_ffc)\n",
    "auc_afo= metrics.roc_auc_score(y_true, y_afo)\n",
    "auc_suresh= metrics.roc_auc_score(y_true, y_suresh)\n",
    "auc_sens= metrics.roc_auc_score(y_true, y_sens)\n",
    "    \n",
    "'''\n",
    "# recall/sensitivity\n",
    "report_ffc = metrics.classification_report(y_true, y_ffc)\n",
    "report_afo = metrics.classification_report(y_true, y_afo)\n",
    "report_suresh = metrics.classification_report(y_true, y_suresh)\n",
    "report_sens = metrics.classification_report(y_true, y_sens)\n",
    "'''\n",
    "    \n",
    "# auprc\n",
    "auprc_ffc= metrics.average_precision_score(y_true, y_ffc)\n",
    "auprc_afo= metrics.average_precision_score(y_true, y_afo)\n",
    "auprc_suresh= metrics.average_precision_score(y_true, y_suresh)\n",
    "auprc_sens= metrics.average_precision_score(y_true, y_sens)\n",
    "\n",
    "'''\n",
    "print('FFC - AUC: ',auc_ffc, ' Sensitivity: ',report_ffc['recall'], ' AUPRC: ',  auprc_ffc)\n",
    "print('AFO - AUC: ',auc_afo, ' Sensitivity: ',report_afo['recall'], ' AUPRC: ',  auprc_afo)\n",
    "print('Suresh - AUC: ',auc_suresh, ' Sensitivity: ',report_suresh['recall'], ' AUPRC: ',  auprc_suresh)\n",
    "print('Sens - AUC: ',auc_sens, ' Sensitivity: ',report_sens['recall'], ' AUPRC: ',  auprc_sens)\n",
    "'''\n",
    "\n",
    "print('FFC & ', round(auc_ffc,4),  ' & ',  round(auprc_ffc,4) , '\\\\\\\\')\n",
    "print('AFO &',round(auc_afo,4),  ' & ',  round(auprc_afo,4), '\\\\\\\\')\n",
    "print('Suresh & ',round(auc_suresh,4),  ' & ',  round(auprc_suresh,4), '\\\\\\\\')\n",
    "print('Sens & ',round(auc_sens,4),  ' & ',  round(auprc_sens,4), '\\\\\\\\')"
   ]
  },
  {
   "cell_type": "code",
   "execution_count": null,
   "metadata": {},
   "outputs": [],
   "source": []
  },
  {
   "cell_type": "code",
   "execution_count": 7,
   "metadata": {},
   "outputs": [
    {
     "name": "stdout",
     "output_type": "stream",
     "text": [
      "FFC &  1.0  &  1.0 &  1.0 \\\\\n",
      "AFO & 1.0  &  1.0 & 1.0 \\\\\n",
      "Suresh &  1.0  &  1.0 & 1.0 \\\\\n",
      "Sens &  1.0  &  1.0 & 1.0 \\\\\n"
     ]
    }
   ],
   "source": [
    "prec_at_k_ffc = rm.precision_at(y_ffc_rk, y_true_rk, k=1, assume_unique=True)\n",
    "map_rk_ffc = rm.mean_average_precision(y_ffc_rk, y_true_rk, assume_unique=True)\n",
    "ndcg_at_k_ffc = rm.ndcg_at(y_ffc_rk, y_true_rk, k=1, assume_unique=True)\n",
    "\n",
    "prec_at_k_afo = rm.precision_at(y_afo_rk, y_true_rk, k=1, assume_unique=True)\n",
    "map_rk_afo = rm.mean_average_precision(y_afo_rk, y_true_rk, assume_unique=True)\n",
    "ndcg_at_k_afo = rm.ndcg_at(y_afo_rk, y_true_rk, k=1, assume_unique=True)\n",
    "\n",
    "prec_at_k_suresh = rm.precision_at(y_suresh_rk, y_true_rk, k=1, assume_unique=True)\n",
    "map_rk_suresh = rm.mean_average_precision(y_suresh_rk, y_true_rk, assume_unique=True)\n",
    "ndcg_at_k_suresh = rm.ndcg_at(y_suresh_rk, y_true_rk, k=1, assume_unique=True)\n",
    "\n",
    "prec_at_k_sens = rm.precision_at(y_sens_rk, y_true_rk, k=1, assume_unique=True)\n",
    "map_rk_sens = rm.mean_average_precision(y_sens_rk, y_true_rk, assume_unique=True)\n",
    "ndcg_at_k_sens = rm.ndcg_at(y_sens_rk, y_true_rk, k=1, assume_unique=True)\n",
    "\n",
    "print('FFC & ', round(prec_at_k_ffc,4),  ' & ',  round(map_rk_ffc,4) , '& ' ,round(ndcg_at_k_ffc,4),'\\\\\\\\')\n",
    "print('AFO &',round(prec_at_k_afo,4),  ' & ',  round(map_rk_afo,4), '&', round(ndcg_at_k_afo,4),'\\\\\\\\')\n",
    "print('Suresh & ',round(prec_at_k_suresh,4),  ' & ',  round(map_rk_suresh,4), '&',round(ndcg_at_k_suresh,4),'\\\\\\\\')\n",
    "print('Sens & ',round(prec_at_k_sens,4),  ' & ',  round(map_rk_sens,4), '&', round(ndcg_at_k_sens,4),'\\\\\\\\')"
   ]
  },
  {
   "cell_type": "code",
   "execution_count": 32,
   "metadata": {},
   "outputs": [],
   "source": [
    "with open('../data/simulated_data/state_dataset_logits_train.pkl','rb') as f:\n",
    "    logits = pkl.load(f)"
   ]
  },
  {
   "cell_type": "code",
   "execution_count": 33,
   "metadata": {},
   "outputs": [
    {
     "data": {
      "text/plain": [
       "(800, 200)"
      ]
     },
     "execution_count": 33,
     "metadata": {},
     "output_type": "execute_result"
    }
   ],
   "source": [
    "logits.shape"
   ]
  },
  {
   "cell_type": "code",
   "execution_count": 34,
   "metadata": {},
   "outputs": [],
   "source": [
    "with open('../data/simulated_data/state_dataset_importance_train.pkl','rb') as f:\n",
    "    importance = pkl.load(f)\n",
    "state = np.zeros(logits.shape,dtype=int)\n",
    "y_logit_1=[]\n",
    "y_logit_2=[]\n",
    "for n in range(importance.shape[0]):\n",
    "    for t in range(importance[n].shape[0]):\n",
    "        if importance[n,t,0]==1 and importance[n,t,2]==1:\n",
    "            y_logit_2.append(logits[n,t])\n",
    "        elif importance[n,t,1]==1 and importance[n,t,2]==1:\n",
    "            y_logit_1.append(logits[n,t])\n",
    "            \n",
    "y_logit_1=np.array(y_logit_1)\n",
    "y_logit_2=np.array(y_logit_2)"
   ]
  },
  {
   "cell_type": "code",
   "execution_count": 35,
   "metadata": {},
   "outputs": [
    {
     "data": {
      "text/plain": [
       "((79758,), (80242,))"
      ]
     },
     "execution_count": 35,
     "metadata": {},
     "output_type": "execute_result"
    }
   ],
   "source": [
    "y_logit_1.shape, y_logit_2.shape"
   ]
  },
  {
   "cell_type": "code",
   "execution_count": 36,
   "metadata": {},
   "outputs": [
    {
     "data": {
      "text/plain": [
       "(array([2.4000e+01, 6.7000e+01, 2.4400e+02, 6.9100e+02, 1.4870e+03,\n",
       "        3.1480e+03, 6.1580e+03, 1.2237e+04, 2.4460e+04, 3.1242e+04]),\n",
       " array([0.07619638, 0.16844263, 0.26068887, 0.35293511, 0.44518136,\n",
       "        0.5374276 , 0.62967384, 0.72192009, 0.81416633, 0.90641257,\n",
       "        0.99865882]),\n",
       " <a list of 10 Patch objects>)"
      ]
     },
     "execution_count": 36,
     "metadata": {},
     "output_type": "execute_result"
    },
    {
     "data": {
      "image/png": "[encoded data removed]",
      "text/plain": [
       "<Figure size 432x288 with 1 Axes>"
      ]
     },
     "metadata": {
      "needs_background": "light"
     },
     "output_type": "display_data"
    }
   ],
   "source": [
    "plt.hist(y_logit_1,color='r')"
   ]
  },
  {
   "cell_type": "code",
   "execution_count": 29,
   "metadata": {
    "scrolled": false
   },
   "outputs": [
    {
     "data": {
      "text/plain": [
       "(array([1.842e+04, 6.808e+03, 2.284e+03, 8.740e+02, 3.530e+02, 1.680e+02,\n",
       "        5.500e+01, 2.700e+01, 9.000e+00, 3.000e+00]),\n",
       " array([5.85928567e-04, 7.91708254e-02, 1.57755722e-01, 2.36340619e-01,\n",
       "        3.14925516e-01, 3.93510412e-01, 4.72095309e-01, 5.50680206e-01,\n",
       "        6.29265103e-01, 7.07850000e-01, 7.86434896e-01]),\n",
       " <a list of 10 Patch objects>)"
      ]
     },
     "execution_count": 29,
     "metadata": {},
     "output_type": "execute_result"
    },
    {
     "data": {
      "image/png": "[encoded data removed]",
      "text/plain": [
       "<Figure size 432x288 with 1 Axes>"
      ]
     },
     "metadata": {
      "needs_background": "light"
     },
     "output_type": "display_data"
    }
   ],
   "source": [
    "plt.hist(y_logit_2,color='b')"
   ]
  },
  {
   "cell_type": "code",
   "execution_count": 53,
   "metadata": {},
   "outputs": [],
   "source": [
    "from scipy.special import expit\n",
    "def decay(x):\n",
    "    return 0.8*(1-0.03)**x"
   ]
  },
  {
   "cell_type": "code",
   "execution_count": 54,
   "metadata": {},
   "outputs": [],
   "source": [
    "import numpy as np\n",
    "prob=np.zeros((200))\n",
    "for t in range(200):\n",
    "    prob[t] = decay(t)"
   ]
  },
  {
   "cell_type": "code",
   "execution_count": 55,
   "metadata": {},
   "outputs": [
    {
     "data": {
      "text/plain": [
       "[<matplotlib.lines.Line2D at 0x7fc6c1bcb898>]"
      ]
     },
     "execution_count": 55,
     "metadata": {},
     "output_type": "execute_result"
    },
    {
     "data": {
      "image/png": "[encoded data removed]",
      "text/plain": [
       "<Figure size 432x288 with 1 Axes>"
      ]
     },
     "metadata": {
      "needs_background": "light"
     },
     "output_type": "display_data"
    }
   ],
   "source": [
    "plt.plot(prob)"
   ]
  },
  {
   "cell_type": "code",
   "execution_count": null,
   "metadata": {},
   "outputs": [],
   "source": []
  }
 ],
 "metadata": {
  "kernelspec": {
   "display_name": "Python 3",
   "language": "python",
   "name": "python3"
  },
  "language_info": {
   "codemirror_mode": {
    "name": "ipython",
    "version": 3
   },
   "file_extension": ".py",
   "mimetype": "text/x-python",
   "name": "python",
   "nbconvert_exporter": "python",
   "pygments_lexer": "ipython3",
   "version": "3.7.3"
  }
 },
 "nbformat": 4,
 "nbformat_minor": 2
}
