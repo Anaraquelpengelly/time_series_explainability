{
 "cells": [
  {
   "cell_type": "code",
   "execution_count": 77,
   "metadata": {},
   "outputs": [],
   "source": [
    "import numpy as np\n",
    "import pandas as pd\n",
    "import matplotlib.pyplot as plt\n",
    "%matplotlib inline\n",
    "from sklearn import metrics\n",
    "import pickle as pkl"
   ]
  },
  {
   "cell_type": "code",
   "execution_count": 101,
   "metadata": {},
   "outputs": [
    {
     "name": "stdout",
     "output_type": "stream",
     "text": [
      "FFC &  0.9795  &  0.5884 \\\\\n",
      "AFO & 0.9301  &  0.3984 \\\\\n",
      "Suresh &  0.3873  &  0.0757 \\\\\n",
      "Sens &  0.521  &  0.0051 \\\\\n"
     ]
    }
   ],
   "source": [
    "#preprocess before metric collection\n",
    "Tt=79\n",
    "N=199\n",
    "y_true=np.zeros(N*Tt)\n",
    "y_ffc=np.zeros(N*Tt)\n",
    "y_afo=np.zeros(N*Tt)\n",
    "y_suresh=np.zeros(N*Tt)\n",
    "y_sens=np.zeros(N*Tt)\n",
    "plot=0\n",
    "\n",
    "nn=N\n",
    "for n in range(nn):\n",
    "    with open('../examples/simulation/results_'+str(n)+'.pkl','rb') as f:\n",
    "        arr = pkl.load(f)\n",
    "    y_true[n*Tt:(n+1)*Tt] = arr['gt'][1:]\n",
    "    y_ffc[n*Tt:(n+1)*Tt] = arr['FFC'][0,:]\n",
    "    y_afo[n*Tt:(n+1)*Tt] = arr['AFO'][0,:]\n",
    "    y_suresh[n*Tt:(n+1)*Tt] = arr['Suresh_et_al'][0,:]\n",
    "    y_sens[n*Tt:(n+1)*Tt] = arr['Sens'][0,1:]\n",
    "    \n",
    "\n",
    "    \n",
    "    if np.max(y_true[n*Tt:(n+1)*Tt]==1) and plot:\n",
    "        print('positive')\n",
    "        plt.figure()\n",
    "        plt.plot(y_true[n*Tt:(n+1)*Tt],label='true')\n",
    "        plt.plot(y_ffc[n*Tt:(n+1)*Tt],label='ffc')\n",
    "        #plt.plot(y_afo[n*Tt:(n+1)*Tt])\n",
    "        #plt.plot(y_suresh[n*Tt:(n+1)*Tt])\n",
    "        plt.plot(y_sens[n*Tt:(n+1)*Tt],label='sens')\n",
    "        plt.legend()\n",
    "        \n",
    "#print metrics\n",
    "auc_ffc= metrics.roc_auc_score(y_true, y_ffc)\n",
    "auc_afo= metrics.roc_auc_score(y_true, y_afo)\n",
    "auc_suresh= metrics.roc_auc_score(y_true, y_suresh)\n",
    "auc_sens= metrics.roc_auc_score(y_true, y_sens)\n",
    "    \n",
    "'''\n",
    "# recall/sensitivity\n",
    "report_ffc = metrics.classification_report(y_true, y_ffc)\n",
    "report_afo = metrics.classification_report(y_true, y_afo)\n",
    "report_suresh = metrics.classification_report(y_true, y_suresh)\n",
    "report_sens = metrics.classification_report(y_true, y_sens)\n",
    "'''\n",
    "    \n",
    "# auprc\n",
    "auprc_ffc= metrics.average_precision_score(y_true, y_ffc)\n",
    "auprc_afo= metrics.average_precision_score(y_true, y_afo)\n",
    "auprc_suresh= metrics.average_precision_score(y_true, y_suresh)\n",
    "auprc_sens= metrics.average_precision_score(y_true, y_sens)\n",
    "\n",
    "'''\n",
    "print('FFC - AUC: ',auc_ffc, ' Sensitivity: ',report_ffc['recall'], ' AUPRC: ',  auprc_ffc)\n",
    "print('AFO - AUC: ',auc_afo, ' Sensitivity: ',report_afo['recall'], ' AUPRC: ',  auprc_afo)\n",
    "print('Suresh - AUC: ',auc_suresh, ' Sensitivity: ',report_suresh['recall'], ' AUPRC: ',  auprc_suresh)\n",
    "print('Sens - AUC: ',auc_sens, ' Sensitivity: ',report_sens['recall'], ' AUPRC: ',  auprc_sens)\n",
    "'''\n",
    "\n",
    "print('FFC & ', round(auc_ffc,4),  ' & ',  round(auprc_ffc,4) , '\\\\\\\\')\n",
    "print('AFO &',round(auc_afo,4),  ' & ',  round(auprc_afo,4), '\\\\\\\\')\n",
    "print('Suresh & ',round(auc_suresh,4),  ' & ',  round(auprc_suresh,4), '\\\\\\\\')\n",
    "print('Sens & ',round(auc_sens,4),  ' & ',  round(auprc_sens,4), '\\\\\\\\')"
   ]
  },
  {
   "cell_type": "code",
   "execution_count": 60,
   "metadata": {},
   "outputs": [],
   "source": [
    "with open('./data/simulated_data/gt_test.pkl','rb') as f:\n",
    "    gt_arr = pkl.load(f)"
   ]
  },
  {
   "cell_type": "code",
   "execution_count": 90,
   "metadata": {},
   "outputs": [
    {
     "data": {
      "text/plain": [
       "(array([7.092e+03, 6.000e+00, 4.000e+00, 1.000e+00, 3.000e+00, 1.000e+00,\n",
       "        0.000e+00, 1.000e+00, 0.000e+00, 2.000e+00]),\n",
       " array([6.55651092e-08, 5.22901759e-02, 1.04580286e-01, 1.56870396e-01,\n",
       "        2.09160507e-01, 2.61450617e-01, 3.13740727e-01, 3.66030838e-01,\n",
       "        4.18320948e-01, 4.70611058e-01, 5.22901168e-01]),\n",
       " <a list of 10 Patch objects>)"
      ]
     },
     "execution_count": 90,
     "metadata": {},
     "output_type": "execute_result"
    },
    {
     "data": {
      "image/png": "[encoded data removed]",
      "text/plain": [
       "<Figure size 432x288 with 1 Axes>"
      ]
     },
     "metadata": {
      "needs_background": "light"
     },
     "output_type": "display_data"
    }
   ],
   "source": [
    "plt.hist(y_ffc)"
   ]
  },
  {
   "cell_type": "code",
   "execution_count": null,
   "metadata": {},
   "outputs": [],
   "source": []
  }
 ],
 "metadata": {
  "kernelspec": {
   "display_name": "Python 3",
   "language": "python",
   "name": "python3"
  },
  "language_info": {
   "codemirror_mode": {
    "name": "ipython",
    "version": 3
   },
   "file_extension": ".py",
   "mimetype": "text/x-python",
   "name": "python",
   "nbconvert_exporter": "python",
   "pygments_lexer": "ipython3",
   "version": "3.7.3"
  }
 },
 "nbformat": 4,
 "nbformat_minor": 2
}
